{
 "cells": [
  {
   "cell_type": "markdown",
   "metadata": {},
   "source": [
    "# CSE-221710309059-v praveenkumar"
   ]
  },
  {
   "cell_type": "markdown",
   "metadata": {},
   "source": [
    "## PROJECT-NINE LIVES LEFT"
   ]
  },
  {
   "cell_type": "code",
   "execution_count": 2,
   "metadata": {},
   "outputs": [
    {
     "name": "stdout",
     "output_type": "stream",
     "text": [
      "Type either a letter or  word!\n",
      "\n",
      "['?', '?', '?', '?', '?']\n",
      "Lives left:  9\n",
      "Guess a letter or word\n",
      "p\n",
      "Incorrect, You lost a life\n",
      "['?', '?', '?', '?', '?']\n",
      "Lives left:  8\n",
      "Guess a letter or word\n",
      "s\n",
      "Incorrect, You lost a life\n",
      "['?', '?', '?', '?', '?']\n",
      "Lives left:  7\n",
      "Guess a letter or word\n",
      "t\n",
      "Incorrect, You lost a life\n",
      "['?', '?', '?', '?', '?']\n",
      "Lives left:  6\n",
      "Guess a letter or word\n",
      "a\n",
      "Correct! Pick another letter...\n",
      "\n",
      "['?', '?', '?', 'a', '?']\n",
      "Lives left:  6\n",
      "Guess a letter or word\n",
      "p\n",
      "Incorrect, You lost a life\n",
      "['?', '?', '?', 'a', '?']\n",
      "Lives left:  5\n",
      "Guess a letter or word\n",
      "b\n",
      "Correct! Pick another letter...\n",
      "\n",
      "['b', '?', '?', 'a', '?']\n",
      "Lives left:  5\n",
      "Guess a letter or word\n",
      "r\n",
      "Correct! Pick another letter...\n",
      "\n",
      "['b', 'r', '?', 'a', '?']\n",
      "Lives left:  5\n",
      "Guess a letter or word\n",
      "e\n",
      "Correct! Pick another letter...\n",
      "\n",
      "['b', 'r', 'e', 'a', '?']\n",
      "Lives left:  5\n",
      "Guess a letter or word\n",
      "d\n",
      "Correct! Pick another letter...\n",
      "\n",
      "['b', 'r', 'e', 'a', 'd']\n",
      "Lives left:  5\n",
      "Guess a letter or word\n",
      "bread\n",
      "You won! \n"
     ]
    }
   ],
   "source": [
    "import random\n",
    "\n",
    "response = True\n",
    "\n",
    "words = [\"pizza\", \"pasta\", \"maggi\",\"bread\",\"chips\"]\n",
    "\n",
    "correct_guess = False\n",
    "\n",
    "def update_clue(guessed_letter, secret_word, clue):\n",
    "    index = 0\n",
    "    while index < len(secret_word):\n",
    "        if guessed_letter == secret_word[index]:\n",
    "            clue[index] = guessed_letter\n",
    "        index+= 1\n",
    "\n",
    "while response == True:\n",
    "    lives = 9\n",
    "    secret_word = random.choice(words)\n",
    "    clue = list(\"?????\")\n",
    "    print(\"Type either a letter or  word!\\n\")\n",
    "\n",
    "    while lives > 0:\n",
    "        print(clue)\n",
    "        print(\"Lives left: \",lives)\n",
    "        guess = input(\"Guess a letter or word\\n\")\n",
    "\n",
    "        if guess == secret_word:\n",
    "            correct_guess = True\n",
    "            break\n",
    "\n",
    "        if guess in secret_word:\n",
    "            update_clue(guess, secret_word, clue)\n",
    "            print(\"Correct! Pick another letter...\\n\")\n",
    "\n",
    "        else:\n",
    "            print(\"Incorrect, You lost a life\")\n",
    "            lives-= 1\n",
    "            \n",
    "\n",
    "    if correct_guess:\n",
    "        print(\"You won! \")\n",
    "        break\n",
    "    else:\n",
    "            response = False"
   ]
  },
  {
   "cell_type": "code",
   "execution_count": null,
   "metadata": {},
   "outputs": [],
   "source": []
  }
 ],
 "metadata": {
  "kernelspec": {
   "display_name": "Python 3",
   "language": "python",
   "name": "python3"
  },
  "language_info": {
   "codemirror_mode": {
    "name": "ipython",
    "version": 3
   },
   "file_extension": ".py",
   "mimetype": "text/x-python",
   "name": "python",
   "nbconvert_exporter": "python",
   "pygments_lexer": "ipython3",
   "version": "3.7.4"
  }
 },
 "nbformat": 4,
 "nbformat_minor": 4
}
